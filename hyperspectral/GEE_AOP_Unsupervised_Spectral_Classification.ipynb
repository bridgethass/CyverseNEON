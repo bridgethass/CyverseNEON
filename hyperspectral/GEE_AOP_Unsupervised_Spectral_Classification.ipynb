{
 "cells": [
  {
   "cell_type": "markdown",
   "id": "sought-courage",
   "metadata": {},
   "source": [
    "https://github.com/giswqs/geemap/blob/master/examples/notebooks/31_unsupervised_classification.ipynb"
   ]
  },
  {
   "cell_type": "code",
   "execution_count": 1,
   "id": "unable-houston",
   "metadata": {},
   "outputs": [],
   "source": [
    "import ee, geemap"
   ]
  },
  {
   "cell_type": "code",
   "execution_count": 2,
   "id": "statutory-characteristic",
   "metadata": {},
   "outputs": [
    {
     "data": {
      "text/html": [
       "<p>To authorize access needed by Earth Engine, open the following\n",
       "        URL in a web browser and follow the instructions:</p>\n",
       "        <p><a href=https://accounts.google.com/o/oauth2/auth?client_id=517222506229-vsmmajv00ul0bs7p89v5m89qs8eb9359.apps.googleusercontent.com&scope=https%3A%2F%2Fwww.googleapis.com%2Fauth%2Fearthengine+https%3A%2F%2Fwww.googleapis.com%2Fauth%2Fdevstorage.full_control&redirect_uri=urn%3Aietf%3Awg%3Aoauth%3A2.0%3Aoob&response_type=code&code_challenge=cMVWHinbZkt-lCVDPlXuk7R8RgWwwD7V6YK_LfAdbXk&code_challenge_method=S256>https://accounts.google.com/o/oauth2/auth?client_id=517222506229-vsmmajv00ul0bs7p89v5m89qs8eb9359.apps.googleusercontent.com&scope=https%3A%2F%2Fwww.googleapis.com%2Fauth%2Fearthengine+https%3A%2F%2Fwww.googleapis.com%2Fauth%2Fdevstorage.full_control&redirect_uri=urn%3Aietf%3Awg%3Aoauth%3A2.0%3Aoob&response_type=code&code_challenge=cMVWHinbZkt-lCVDPlXuk7R8RgWwwD7V6YK_LfAdbXk&code_challenge_method=S256</a></p>\n",
       "        <p>The authorization workflow will generate a code, which you\n",
       "        should paste in the box below</p>\n",
       "        "
      ],
      "text/plain": [
       "<IPython.core.display.HTML object>"
      ]
     },
     "metadata": {},
     "output_type": "display_data"
    },
    {
     "name": "stdin",
     "output_type": "stream",
     "text": [
      "Enter verification code:  4/1AX4XfWjUNTZMpwtQhVcaOuR0to_JrC-ErBZv1y9WkQ7g4as3JkR6-xmDjWo\n"
     ]
    },
    {
     "name": "stdout",
     "output_type": "stream",
     "text": [
      "\n",
      "Successfully saved authorization token.\n"
     ]
    }
   ],
   "source": [
    "ee.Authenticate()"
   ]
  },
  {
   "cell_type": "code",
   "execution_count": 3,
   "id": "complicated-external",
   "metadata": {},
   "outputs": [],
   "source": [
    "ee.Initialize()"
   ]
  },
  {
   "cell_type": "markdown",
   "id": "growing-stylus",
   "metadata": {},
   "source": [
    "## Create an interactive map"
   ]
  },
  {
   "cell_type": "code",
   "execution_count": 4,
   "id": "chemical-malawi",
   "metadata": {},
   "outputs": [
    {
     "data": {
      "application/vnd.jupyter.widget-view+json": {
       "model_id": "94d5d9a2f0844e0dbf89761c1b25a003",
       "version_major": 2,
       "version_minor": 0
      },
      "text/plain": [
       "Map(center=[40, -100], controls=(WidgetControl(options=['position', 'transparent_bg'], widget=HBox(children=(T…"
      ]
     },
     "metadata": {},
     "output_type": "display_data"
    }
   ],
   "source": [
    "Map = geemap.Map()\n",
    "Map"
   ]
  },
  {
   "cell_type": "markdown",
   "id": "informative-pendant",
   "metadata": {},
   "source": [
    "## Add SRER 2017 Surface Directional Reflectance"
   ]
  },
  {
   "cell_type": "code",
   "execution_count": 5,
   "id": "intellectual-sucking",
   "metadata": {},
   "outputs": [],
   "source": [
    "# Specify center location of SRER\n",
    "geo = ee.Geometry.Point([-110.83549, 31.91068])\n",
    "\n",
    "# Read in Surface Directional Reflectance (SDR) Images and filter by date and bounds \n",
    "SRER_SDR2017 = ee.ImageCollection(\"projects/neon/DP3-30006-001_SDR\").filterDate('2017-01-01', '2017-12-31').filterBounds(geo).first();\n",
    "\n",
    "# Mask layers to only show values > 0 (this hides the no data values of -9999) \n",
    "SRER_SDR2017mask = SRER_SDR2017.updateMask(SRER_SDR2017.gte(0.0000))\n",
    "\n",
    "# Set the visualization parameters so contrast is maximized, and set display to show RGB bands \n",
    "visParams = {'min':2,'max':20,'gamma':0.9,'bands':['band053','band035','band019']};\n",
    "\n",
    "Map.addLayer(SRER_SDR2017mask, visParams, 'SRER 2017');\n",
    "\n",
    "Map.setCenter(-110.83549, 31.91068, 10);"
   ]
  },
  {
   "cell_type": "markdown",
   "id": "stylish-horse",
   "metadata": {},
   "source": [
    "## Remove water vapor absorption bands!"
   ]
  },
  {
   "cell_type": "code",
   "execution_count": null,
   "id": "technical-surname",
   "metadata": {},
   "outputs": [],
   "source": []
  },
  {
   "cell_type": "markdown",
   "id": "selected-implementation",
   "metadata": {},
   "source": [
    "## Look at the image properties"
   ]
  },
  {
   "cell_type": "markdown",
   "id": "corporate-saskatchewan",
   "metadata": {},
   "source": [
    "props = geemap.image_props(SRER_SDR2017)\n",
    "props.getInfo()"
   ]
  },
  {
   "cell_type": "code",
   "execution_count": 8,
   "id": "behavioral-messenger",
   "metadata": {},
   "outputs": [
    {
     "data": {
      "text/plain": [
       "'2017-08-24'"
      ]
     },
     "execution_count": 8,
     "metadata": {},
     "output_type": "execute_result"
    }
   ],
   "source": [
    "props.get('IMAGE_DATE').getInfo()"
   ]
  },
  {
   "cell_type": "markdown",
   "id": "typical-paste",
   "metadata": {},
   "source": [
    "## Make training dataset\n",
    "There are several ways you can create a region for generating the training dataset.\n",
    "\n",
    "Draw a shape (e.g., rectangle) on the map and the use region = Map.user_roi\n",
    "Define a geometry, such as region = ee.Geometry.Rectangle([-122.6003, 37.4831, -121.8036, 37.8288])\n",
    "Create a buffer zone around a point, such as region = ee.Geometry.Point([-122.4439, 37.7538]).buffer(10000)\n",
    "If you don't define a region, it will use the image footprint by default"
   ]
  },
  {
   "cell_type": "code",
   "execution_count": 10,
   "id": "inclusive-founder",
   "metadata": {},
   "outputs": [
    {
     "data": {
      "application/vnd.jupyter.widget-view+json": {
       "model_id": "94d5d9a2f0844e0dbf89761c1b25a003",
       "version_major": 2,
       "version_minor": 0
      },
      "text/plain": [
       "Map(bottom=106832.0, center=[31.91068, -110.83549], controls=(WidgetControl(options=['position', 'transparent_…"
      ]
     },
     "metadata": {},
     "output_type": "display_data"
    }
   ],
   "source": [
    "# Make the training dataset.\n",
    "training = SRER_SDR2017.sample(**{\n",
    "#     'region': region,\n",
    "    'scale': 30,\n",
    "    'numPixels': 5000,\n",
    "    'seed': 0,\n",
    "    'geometries': True  # Set this to False to ignore geometries\n",
    "})\n",
    "\n",
    "Map.addLayer(training, {}, 'training', False)\n",
    "Map"
   ]
  },
  {
   "cell_type": "markdown",
   "id": "equivalent-retail",
   "metadata": {},
   "source": [
    "## Train the clusterer"
   ]
  },
  {
   "cell_type": "code",
   "execution_count": 15,
   "id": "helpful-charlotte",
   "metadata": {},
   "outputs": [],
   "source": [
    "# Instantiate the clusterer and train it.\n",
    "n_clusters = 4\n",
    "clusterer = ee.Clusterer.wekaKMeans(n_clusters).train(training)"
   ]
  },
  {
   "cell_type": "markdown",
   "id": "printable-savannah",
   "metadata": {},
   "source": [
    "## Classify the image"
   ]
  },
  {
   "cell_type": "code",
   "execution_count": 16,
   "id": "relative-projection",
   "metadata": {},
   "outputs": [
    {
     "data": {
      "application/vnd.jupyter.widget-view+json": {
       "model_id": "94d5d9a2f0844e0dbf89761c1b25a003",
       "version_major": 2,
       "version_minor": 0
      },
      "text/plain": [
       "Map(bottom=426800.0, center=[31.801725465871957, -110.78596115112306], controls=(WidgetControl(options=['posit…"
      ]
     },
     "metadata": {},
     "output_type": "display_data"
    }
   ],
   "source": [
    "# Cluster the input using the trained clusterer.\n",
    "result = SRER_SDR2017.cluster(clusterer)\n",
    "\n",
    "# # Display the clusters with random colors.\n",
    "Map.addLayer(result.randomVisualizer(), {}, 'clusters')\n",
    "Map"
   ]
  },
  {
   "cell_type": "markdown",
   "id": "copyrighted-anatomy",
   "metadata": {},
   "source": [
    "## Label the clusters"
   ]
  },
  {
   "cell_type": "code",
   "execution_count": 20,
   "id": "charged-preliminary",
   "metadata": {},
   "outputs": [
    {
     "data": {
      "application/vnd.jupyter.widget-view+json": {
       "model_id": "94d5d9a2f0844e0dbf89761c1b25a003",
       "version_major": 2,
       "version_minor": 0
      },
      "text/plain": [
       "Map(bottom=1706013.0, center=[31.82265845614348, -110.93912601470949], controls=(WidgetControl(options=['posit…"
      ]
     },
     "metadata": {},
     "output_type": "display_data"
    }
   ],
   "source": [
    "legend_keys = ['One', 'Two', 'Three', 'Four']\n",
    "legend_colors = ['#8DD3C7', '#FFFFB3', '#BEBADA', '#FB8072']\n",
    "\n",
    "# Reclassify the map\n",
    "result = result.remap([0, 1, 2, 3], [1, 2, 3, 4])\n",
    "\n",
    "Map.addLayer(result, {'min': 1, 'max': 5, 'palette': legend_colors}, 'Labelled clusters')\n",
    "Map.add_legend(legend_keys=legend_keys, legend_colors=legend_colors, position='bottomright')\n",
    "Map"
   ]
  },
  {
   "cell_type": "code",
   "execution_count": null,
   "id": "homeless-spanish",
   "metadata": {},
   "outputs": [],
   "source": []
  },
  {
   "cell_type": "code",
   "execution_count": 17,
   "id": "musical-belief",
   "metadata": {},
   "outputs": [
    {
     "name": "stdout",
     "output_type": "stream",
     "text": [
      "Change layer opacity:\n"
     ]
    },
    {
     "data": {
      "application/vnd.jupyter.widget-view+json": {
       "model_id": "dfa97640c86b45c4827136cd3825ce91",
       "version_major": 2,
       "version_minor": 0
      },
      "text/plain": [
       "Box(children=(FloatSlider(value=1.0, description='opacity', max=1.0),))"
      ]
     },
     "metadata": {},
     "output_type": "display_data"
    }
   ],
   "source": [
    "print('Change layer opacity:')\n",
    "cluster_layer = Map.layers[-1]\n",
    "cluster_layer.interact(opacity=(0, 1, 0.1))"
   ]
  },
  {
   "cell_type": "code",
   "execution_count": null,
   "id": "placed-potential",
   "metadata": {},
   "outputs": [],
   "source": [
    "import os\n",
    "out_dir = os.path.join(os.path.expanduser('~'), 'Downloads')\n",
    "out_file = os.path.join(out_dir, 'cluster.tif')"
   ]
  }
 ],
 "metadata": {
  "kernelspec": {
   "display_name": "Python 3",
   "language": "python",
   "name": "python3"
  },
  "language_info": {
   "codemirror_mode": {
    "name": "ipython",
    "version": 3
   },
   "file_extension": ".py",
   "mimetype": "text/x-python",
   "name": "python",
   "nbconvert_exporter": "python",
   "pygments_lexer": "ipython3",
   "version": "3.8.6"
  }
 },
 "nbformat": 4,
 "nbformat_minor": 5
}
