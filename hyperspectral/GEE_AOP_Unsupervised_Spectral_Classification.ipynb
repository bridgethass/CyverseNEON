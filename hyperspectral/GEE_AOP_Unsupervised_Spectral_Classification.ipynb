{
 "cells": [
  {
   "cell_type": "markdown",
   "id": "olympic-elevation",
   "metadata": {},
   "source": [
    "# Unsupervised Classification of AOP Surface Directional Reflectance data in GEE\n",
    "\n",
    "Authors: Bridget Hass, John Musinsky\n",
    "\n",
    "Modified from Qiusheng Wu's [Machine Learning with Earth Engine - Unsupervised Classification](https://github.com/giswqs/geemap/blob/master/examples/notebooks/31_unsupervised_classification.ipynb)\n",
    "\n",
    "Source: https://developers.google.com/earth-engine/clustering\n",
    "\n",
    "The `ee.Clusterer` package handles unsupervised classification (or clustering) in Earth Engine. More details about each Clusterer are available in the reference docs in the Code Editor.\n",
    "\n",
    "In this tutorial, we will use a GEE clusterer to carry out unsupervised classification of SRER, using data from 2017 (collected in good weather conditions \"green\"), and compare it to data from 2018 (mixed weather conditions)."
   ]
  },
  {
   "cell_type": "code",
   "execution_count": 1,
   "id": "mounted-advocate",
   "metadata": {},
   "outputs": [],
   "source": [
    "import ee, geemap"
   ]
  },
  {
   "cell_type": "code",
   "execution_count": 2,
   "id": "approved-nowhere",
   "metadata": {},
   "outputs": [
    {
     "data": {
      "text/html": [
       "<p>To authorize access needed by Earth Engine, open the following\n",
       "        URL in a web browser and follow the instructions:</p>\n",
       "        <p><a href=https://accounts.google.com/o/oauth2/auth?client_id=517222506229-vsmmajv00ul0bs7p89v5m89qs8eb9359.apps.googleusercontent.com&scope=https%3A%2F%2Fwww.googleapis.com%2Fauth%2Fearthengine+https%3A%2F%2Fwww.googleapis.com%2Fauth%2Fdevstorage.full_control&redirect_uri=urn%3Aietf%3Awg%3Aoauth%3A2.0%3Aoob&response_type=code&code_challenge=HQsB-dlqtGijE5sKgFxTFPXxd1XGW-RCZ0MrmqXg4DA&code_challenge_method=S256>https://accounts.google.com/o/oauth2/auth?client_id=517222506229-vsmmajv00ul0bs7p89v5m89qs8eb9359.apps.googleusercontent.com&scope=https%3A%2F%2Fwww.googleapis.com%2Fauth%2Fearthengine+https%3A%2F%2Fwww.googleapis.com%2Fauth%2Fdevstorage.full_control&redirect_uri=urn%3Aietf%3Awg%3Aoauth%3A2.0%3Aoob&response_type=code&code_challenge=HQsB-dlqtGijE5sKgFxTFPXxd1XGW-RCZ0MrmqXg4DA&code_challenge_method=S256</a></p>\n",
       "        <p>The authorization workflow will generate a code, which you\n",
       "        should paste in the box below</p>\n",
       "        "
      ],
      "text/plain": [
       "<IPython.core.display.HTML object>"
      ]
     },
     "metadata": {},
     "output_type": "display_data"
    },
    {
     "name": "stdin",
     "output_type": "stream",
     "text": [
      "Enter verification code:  4/1AX4XfWiILc6NBFI6p-rXsIRpLumiYxif1M-jmSb9eUw2Nxw4enru11dWTUw\n"
     ]
    },
    {
     "name": "stdout",
     "output_type": "stream",
     "text": [
      "\n",
      "Successfully saved authorization token.\n"
     ]
    }
   ],
   "source": [
    "ee.Authenticate()"
   ]
  },
  {
   "cell_type": "code",
   "execution_count": 3,
   "id": "absolute-people",
   "metadata": {},
   "outputs": [],
   "source": [
    "ee.Initialize()"
   ]
  },
  {
   "cell_type": "markdown",
   "id": "powered-renaissance",
   "metadata": {},
   "source": [
    "## Create an interactive map"
   ]
  },
  {
   "cell_type": "code",
   "execution_count": 4,
   "id": "complex-violence",
   "metadata": {},
   "outputs": [
    {
     "data": {
      "application/vnd.jupyter.widget-view+json": {
       "model_id": "2fab874fe90841c78bf8e0ab59d5511b",
       "version_major": 2,
       "version_minor": 0
      },
      "text/plain": [
       "Map(center=[40, -100], controls=(WidgetControl(options=['position', 'transparent_bg'], widget=HBox(children=(T…"
      ]
     },
     "metadata": {},
     "output_type": "display_data"
    }
   ],
   "source": [
    "Map = geemap.Map()\n",
    "Map"
   ]
  },
  {
   "cell_type": "markdown",
   "id": "according-tuesday",
   "metadata": {},
   "source": [
    "## Add SRER 2021 Surface Directional Reflectance"
   ]
  },
  {
   "cell_type": "code",
   "execution_count": 6,
   "id": "front-wagon",
   "metadata": {},
   "outputs": [],
   "source": [
    "# Specify center location of SRER\n",
    "geo = ee.Geometry.Point([-110.83549, 31.91068])\n",
    "\n",
    "# Read in SRER Surface Directional Reflectance (SDR) Image from 2021\n",
    "SRER_SDR2021 = ee.Image(\"projects/neon/D14_SRER/L3/DP3-30006-001_D14_SRER_SDR_2021\")\n",
    "\n",
    "# Mask layers to only show values > 0 (this hides the no data values of -9999) \n",
    "SRER_SDR2021mask = SRER_SDR2021.updateMask(SRER_SDR2021.gte(0.0000))\n",
    "\n",
    "# Set the visualization parameters so contrast is maximized, and set display to show RGB bands \n",
    "visParams = {'min':2,'max':20,'gamma':0.9,'bands':['band053','band035','band019']};\n",
    "\n",
    "Map.addLayer(SRER_SDR2021mask, visParams, 'SRER 2021');\n",
    "\n",
    "Map.setCenter(-110.83549, 31.91068, 11);"
   ]
  },
  {
   "cell_type": "markdown",
   "id": "seeing-endorsement",
   "metadata": {},
   "source": [
    "## Remove water vapor absorption bands"
   ]
  },
  {
   "cell_type": "code",
   "execution_count": 7,
   "id": "upset-simon",
   "metadata": {},
   "outputs": [],
   "source": [
    "bands = SRER_SDR2021.get('system:band_names').getInfo()\n",
    "bad_bands = ['band' + str(a) for a in range(190,212)] + ['band' + str(a) for a in range(280,314)] + ['band' + str(a) for a in range(416,427)]\n",
    "good_bands = [b for b in bands if b not in bad_bands]"
   ]
  },
  {
   "cell_type": "code",
   "execution_count": 8,
   "id": "coated-institute",
   "metadata": {},
   "outputs": [
    {
     "data": {
      "text/plain": [
       "359"
      ]
     },
     "execution_count": 8,
     "metadata": {},
     "output_type": "execute_result"
    }
   ],
   "source": [
    "len(good_bands)"
   ]
  },
  {
   "cell_type": "code",
   "execution_count": 9,
   "id": "protected-picnic",
   "metadata": {},
   "outputs": [],
   "source": [
    "SRER2021sub = SRER_SDR2021.select(good_bands)"
   ]
  },
  {
   "cell_type": "markdown",
   "id": "addressed-filename",
   "metadata": {},
   "source": [
    "## Look at the image properties"
   ]
  },
  {
   "cell_type": "markdown",
   "id": "tired-draft",
   "metadata": {},
   "source": [
    "props = geemap.image_props(SRER_SDR2021)\n",
    "props.getInfo()"
   ]
  },
  {
   "cell_type": "markdown",
   "id": "entire-providence",
   "metadata": {},
   "source": [
    "## Make training dataset\n",
    "Note: there are several ways you can create a region for generating the training dataset. If you don't define a region, it will use the image footprint by default. For this example we will not specify a region."
   ]
  },
  {
   "cell_type": "code",
   "execution_count": 11,
   "id": "framed-situation",
   "metadata": {},
   "outputs": [],
   "source": [
    "# Make the training dataset.\n",
    "training = SRER2021sub.sample(**{\n",
    "#     'region': region,\n",
    "    'scale': 30,\n",
    "    'numPixels': 5000,\n",
    "    'seed': 0,\n",
    "    'geometries': True  # Set this to False to ignore geometries\n",
    "})\n",
    "\n",
    "Map.addLayer(training, {}, 'training', False)"
   ]
  },
  {
   "cell_type": "markdown",
   "id": "threaded-salem",
   "metadata": {},
   "source": [
    "## Train the clusterer"
   ]
  },
  {
   "cell_type": "code",
   "execution_count": 12,
   "id": "supported-garlic",
   "metadata": {},
   "outputs": [],
   "source": [
    "# Instantiate the clusterer and train it.\n",
    "n_clusters = 4\n",
    "clusterer = ee.Clusterer.wekaKMeans(n_clusters).train(training)"
   ]
  },
  {
   "cell_type": "markdown",
   "id": "selective-deployment",
   "metadata": {},
   "source": [
    "## Classify the image"
   ]
  },
  {
   "cell_type": "code",
   "execution_count": 13,
   "id": "civil-earth",
   "metadata": {},
   "outputs": [],
   "source": [
    "# Cluster the input using the trained clusterer.\n",
    "result = SRER2021sub.cluster(clusterer)\n",
    "\n",
    "# # Display the clusters with random colors.\n",
    "Map.addLayer(result.randomVisualizer(), {}, 'clusters')"
   ]
  },
  {
   "cell_type": "markdown",
   "id": "modular-possible",
   "metadata": {},
   "source": [
    "## Label the clusters"
   ]
  },
  {
   "cell_type": "code",
   "execution_count": 16,
   "id": "alternative-natural",
   "metadata": {},
   "outputs": [
    {
     "data": {
      "application/vnd.jupyter.widget-view+json": {
       "model_id": "2fab874fe90841c78bf8e0ab59d5511b",
       "version_major": 2,
       "version_minor": 0
      },
      "text/plain": [
       "Map(bottom=213519.0, center=[31.81981418200514, -110.81462860107423], controls=(WidgetControl(options=['positi…"
      ]
     },
     "metadata": {},
     "output_type": "display_data"
    }
   ],
   "source": [
    "legend_keys = ['1', '2', '3', '4']\n",
    "legend_colors = ['#8DD3C7', '#FFFFB3', '#BEBADA', '#FB8072']\n",
    "\n",
    "# Reclassify the map\n",
    "result = result.remap([0, 1, 2, 3], [1, 2, 3, 4])\n",
    "\n",
    "Map.addLayer(result, {'min': 1, 'max': 5, 'palette': legend_colors}, 'Labelled clusters')\n",
    "Map.add_legend(legend_keys=legend_keys, legend_colors=legend_colors, position='bottomright')\n",
    "Map"
   ]
  },
  {
   "cell_type": "code",
   "execution_count": 17,
   "id": "fancy-focus",
   "metadata": {},
   "outputs": [
    {
     "name": "stdout",
     "output_type": "stream",
     "text": [
      "Change layer opacity:\n"
     ]
    },
    {
     "data": {
      "application/vnd.jupyter.widget-view+json": {
       "model_id": "6b0e7db995f741ada92ad9f6858272d2",
       "version_major": 2,
       "version_minor": 0
      },
      "text/plain": [
       "Box(children=(FloatSlider(value=1.0, description='opacity', max=1.0),))"
      ]
     },
     "metadata": {},
     "output_type": "display_data"
    }
   ],
   "source": [
    "print('Change layer opacity:')\n",
    "cluster_layer = Map.layers[-1]\n",
    "cluster_layer.interact(opacity=(0, 1, 0.1))"
   ]
  },
  {
   "cell_type": "code",
   "execution_count": null,
   "id": "swiss-customer",
   "metadata": {},
   "outputs": [],
   "source": [
    "import os\n",
    "out_dir = os.path.join(os.path.expanduser('~'), 'Downloads')\n",
    "out_file = os.path.join(out_dir, 'cluster.tif')"
   ]
  }
 ],
 "metadata": {
  "kernelspec": {
   "display_name": "Python 3",
   "language": "python",
   "name": "python3"
  },
  "language_info": {
   "codemirror_mode": {
    "name": "ipython",
    "version": 3
   },
   "file_extension": ".py",
   "mimetype": "text/x-python",
   "name": "python",
   "nbconvert_exporter": "python",
   "pygments_lexer": "ipython3",
   "version": "3.8.6"
  }
 },
 "nbformat": 4,
 "nbformat_minor": 5
}
