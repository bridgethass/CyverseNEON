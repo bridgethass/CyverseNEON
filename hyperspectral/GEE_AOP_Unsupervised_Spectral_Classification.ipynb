{
 "cells": [
  {
   "cell_type": "markdown",
   "id": "anticipated-phrase",
   "metadata": {},
   "source": [
    "# Unsupervised Classification of AOP Surface Directional Reflectance data in GEE\n",
    "\n",
    "Authors: Bridget Hass, John Musinsky, Qiusheng Wu\n",
    "\n",
    "Modified from Qiusheng Wu's [Machine Learning with Earth Engine - Unsupervised Classification](https://github.com/giswqs/geemap/blob/master/examples/notebooks/31_unsupervised_classification.ipynb)\n",
    "\n",
    "Source: https://developers.google.com/earth-engine/clustering\n",
    "\n",
    "The `ee.Clusterer` package handles unsupervised classification (or clustering) in Earth Engine. More details about each Clusterer are available in the reference docs in the Code Editor.\n",
    "\n",
    "In this tutorial, we will use a GEE clusterer to carry out unsupervised classification of SRER, using data from 2017 (collected in good weather conditions \"green\"), and compare it to data from 2018 (mixed weather conditions)."
   ]
  },
  {
   "cell_type": "code",
   "execution_count": 1,
   "id": "solid-ending",
   "metadata": {},
   "outputs": [],
   "source": [
    "import ee, geemap"
   ]
  },
  {
   "cell_type": "code",
   "execution_count": 4,
   "id": "specified-resident",
   "metadata": {},
   "outputs": [
    {
     "data": {
      "text/html": [
       "<p>To authorize access needed by Earth Engine, open the following\n",
       "        URL in a web browser and follow the instructions:</p>\n",
       "        <p><a href=https://accounts.google.com/o/oauth2/auth?client_id=517222506229-vsmmajv00ul0bs7p89v5m89qs8eb9359.apps.googleusercontent.com&scope=https%3A%2F%2Fwww.googleapis.com%2Fauth%2Fearthengine+https%3A%2F%2Fwww.googleapis.com%2Fauth%2Fdevstorage.full_control&redirect_uri=urn%3Aietf%3Awg%3Aoauth%3A2.0%3Aoob&response_type=code&code_challenge=eS4yczAI0WzVBQsZPcNuWQTWQpa-hY0XwoKth29vbT0&code_challenge_method=S256>https://accounts.google.com/o/oauth2/auth?client_id=517222506229-vsmmajv00ul0bs7p89v5m89qs8eb9359.apps.googleusercontent.com&scope=https%3A%2F%2Fwww.googleapis.com%2Fauth%2Fearthengine+https%3A%2F%2Fwww.googleapis.com%2Fauth%2Fdevstorage.full_control&redirect_uri=urn%3Aietf%3Awg%3Aoauth%3A2.0%3Aoob&response_type=code&code_challenge=eS4yczAI0WzVBQsZPcNuWQTWQpa-hY0XwoKth29vbT0&code_challenge_method=S256</a></p>\n",
       "        <p>The authorization workflow will generate a code, which you\n",
       "        should paste in the box below</p>\n",
       "        "
      ],
      "text/plain": [
       "<IPython.core.display.HTML object>"
      ]
     },
     "metadata": {},
     "output_type": "display_data"
    },
    {
     "name": "stdin",
     "output_type": "stream",
     "text": [
      "Enter verification code:  4/1AX4XfWjSAxDZzdlX-YBptmw7CpD7I8izr-OqdIpE9fCIXuF9p-Gvk-k8fbI\n"
     ]
    },
    {
     "name": "stdout",
     "output_type": "stream",
     "text": [
      "\n",
      "Successfully saved authorization token.\n"
     ]
    }
   ],
   "source": [
    "ee.Authenticate()"
   ]
  },
  {
   "cell_type": "code",
   "execution_count": 5,
   "id": "comic-volunteer",
   "metadata": {},
   "outputs": [],
   "source": [
    "ee.Initialize()"
   ]
  },
  {
   "cell_type": "markdown",
   "id": "third-travel",
   "metadata": {},
   "source": [
    "## Create an interactive map"
   ]
  },
  {
   "cell_type": "code",
   "execution_count": 6,
   "id": "operational-familiar",
   "metadata": {
    "collapsed": true,
    "jupyter": {
     "outputs_hidden": true
    }
   },
   "outputs": [
    {
     "data": {
      "application/vnd.jupyter.widget-view+json": {
       "model_id": "fe2e811d3596423b9c36a1b6a7dac2e3",
       "version_major": 2,
       "version_minor": 0
      },
      "text/plain": [
       "Map(center=[40, -100], controls=(WidgetControl(options=['position', 'transparent_bg'], widget=HBox(children=(T…"
      ]
     },
     "metadata": {},
     "output_type": "display_data"
    }
   ],
   "source": [
    "Map = geemap.Map()\n",
    "Map"
   ]
  },
  {
   "cell_type": "markdown",
   "id": "traditional-twelve",
   "metadata": {},
   "source": [
    "## Add SRER 2017 Surface Directional Reflectance"
   ]
  },
  {
   "cell_type": "code",
   "execution_count": 7,
   "id": "becoming-expansion",
   "metadata": {},
   "outputs": [],
   "source": [
    "# Specify center location of SRER\n",
    "geo = ee.Geometry.Point([-110.83549, 31.91068])\n",
    "\n",
    "# Read in Surface Directional Reflectance (SDR) Images and filter by date and bounds \n",
    "# SRER_SDR2017 = ee.ImageCollection(\"projects/neon/DP3-30006-001_SDR\").filterDate('2017-01-01', '2017-12-31').filterBounds(geo).first();\n",
    "SRER_SDR2021 = ee.Image(\"projects/neon/D14_SRER/L3/DP3-30006-001_D14_SRER_SDR_2021\")\n",
    "\n",
    "# Mask layers to only show values > 0 (this hides the no data values of -9999) \n",
    "# SRER_SDR2017mask = SRER_SDR2017.updateMask(SRER_SDR2017.gte(0.0000))\n",
    "SRER_SDR2021mask = SRER_SDR2021.updateMask(SRER_SDR2021.gte(0.0000))\n",
    "\n",
    "# Set the visualization parameters so contrast is maximized, and set display to show RGB bands \n",
    "visParams = {'min':2,'max':20,'gamma':0.9,'bands':['band053','band035','band019']};\n",
    "\n",
    "Map.addLayer(SRER_SDR2021mask, visParams, 'SRER 2021');\n",
    "\n",
    "Map.setCenter(-110.83549, 31.91068, 10);"
   ]
  },
  {
   "cell_type": "code",
   "execution_count": 14,
   "id": "advanced-tunisia",
   "metadata": {},
   "outputs": [
    {
     "name": "stdout",
     "output_type": "stream",
     "text": [
      "Pretty printing has been turned OFF\n"
     ]
    }
   ],
   "source": [
    "%pprint"
   ]
  },
  {
   "cell_type": "markdown",
   "id": "intense-anaheim",
   "metadata": {},
   "source": [
    "## Remove water vapor absorption bands!"
   ]
  },
  {
   "cell_type": "code",
   "execution_count": 16,
   "id": "lightweight-quantum",
   "metadata": {},
   "outputs": [],
   "source": [
    "bands = SRER_SDR2021.get('system:band_names').getInfo()\n",
    "good_bands = [b for b in bands if b not in ['band' + str(a) for a in range(190,212)] and b not in ['band' + str(a) for a in range(280,314)]]"
   ]
  },
  {
   "cell_type": "code",
   "execution_count": 20,
   "id": "amazing-denmark",
   "metadata": {},
   "outputs": [
    {
     "data": {
      "text/plain": [
       "370"
      ]
     },
     "execution_count": 20,
     "metadata": {},
     "output_type": "execute_result"
    }
   ],
   "source": [
    "len(good_bands)"
   ]
  },
  {
   "cell_type": "code",
   "execution_count": 19,
   "id": "clinical-infrastructure",
   "metadata": {},
   "outputs": [
    {
     "data": {
      "text/plain": [
       "['band001', 'band002', 'band003', 'band004', 'band005', 'band006', 'band007', 'band008', 'band009', 'band010', 'band011', 'band012', 'band013', 'band014', 'band015', 'band016', 'band017', 'band018', 'band019', 'band020', 'band021', 'band022', 'band023', 'band024', 'band025', 'band026', 'band027', 'band028', 'band029', 'band030', 'band031', 'band032', 'band033', 'band034', 'band035', 'band036', 'band037', 'band038', 'band039', 'band040', 'band041', 'band042', 'band043', 'band044', 'band045', 'band046', 'band047', 'band048', 'band049', 'band050', 'band051', 'band052', 'band053', 'band054', 'band055', 'band056', 'band057', 'band058', 'band059', 'band060', 'band061', 'band062', 'band063', 'band064', 'band065', 'band066', 'band067', 'band068', 'band069', 'band070', 'band071', 'band072', 'band073', 'band074', 'band075', 'band076', 'band077', 'band078', 'band079', 'band080', 'band081', 'band082', 'band083', 'band084', 'band085', 'band086', 'band087', 'band088', 'band089', 'band090', 'band091', 'band092', 'band093', 'band094', 'band095', 'band096', 'band097', 'band098', 'band099', 'band100', 'band101', 'band102', 'band103', 'band104', 'band105', 'band106', 'band107', 'band108', 'band109', 'band110', 'band111', 'band112', 'band113', 'band114', 'band115', 'band116', 'band117', 'band118', 'band119', 'band120', 'band121', 'band122', 'band123', 'band124', 'band125', 'band126', 'band127', 'band128', 'band129', 'band130', 'band131', 'band132', 'band133', 'band134', 'band135', 'band136', 'band137', 'band138', 'band139', 'band140', 'band141', 'band142', 'band143', 'band144', 'band145', 'band146', 'band147', 'band148', 'band149', 'band150', 'band151', 'band152', 'band153', 'band154', 'band155', 'band156', 'band157', 'band158', 'band159', 'band160', 'band161', 'band162', 'band163', 'band164', 'band165', 'band166', 'band167', 'band168', 'band169', 'band170', 'band171', 'band172', 'band173', 'band174', 'band175', 'band176', 'band177', 'band178', 'band179', 'band180', 'band181', 'band182', 'band183', 'band184', 'band185', 'band186', 'band187', 'band188', 'band189', 'band212', 'band213', 'band214', 'band215', 'band216', 'band217', 'band218', 'band219', 'band220', 'band221', 'band222', 'band223', 'band224', 'band225', 'band226', 'band227', 'band228', 'band229', 'band230', 'band231', 'band232', 'band233', 'band234', 'band235', 'band236', 'band237', 'band238', 'band239', 'band240', 'band241', 'band242', 'band243', 'band244', 'band245', 'band246', 'band247', 'band248', 'band249', 'band250', 'band251', 'band252', 'band253', 'band254', 'band255', 'band256', 'band257', 'band258', 'band259', 'band260', 'band261', 'band262', 'band263', 'band264', 'band265', 'band266', 'band267', 'band268', 'band269', 'band270', 'band271', 'band272', 'band273', 'band274', 'band275', 'band276', 'band277', 'band278', 'band279', 'band314', 'band315', 'band316', 'band317', 'band318', 'band319', 'band320', 'band321', 'band322', 'band323', 'band324', 'band325', 'band326', 'band327', 'band328', 'band329', 'band330', 'band331', 'band332', 'band333', 'band334', 'band335', 'band336', 'band337', 'band338', 'band339', 'band340', 'band341', 'band342', 'band343', 'band344', 'band345', 'band346', 'band347', 'band348', 'band349', 'band350', 'band351', 'band352', 'band353', 'band354', 'band355', 'band356', 'band357', 'band358', 'band359', 'band360', 'band361', 'band362', 'band363', 'band364', 'band365', 'band366', 'band367', 'band368', 'band369', 'band370', 'band371', 'band372', 'band373', 'band374', 'band375', 'band376', 'band377', 'band378', 'band379', 'band380', 'band381', 'band382', 'band383', 'band384', 'band385', 'band386', 'band387', 'band388', 'band389', 'band390', 'band391', 'band392', 'band393', 'band394', 'band395', 'band396', 'band397', 'band398', 'band399', 'band400', 'band401', 'band402', 'band403', 'band404', 'band405', 'band406', 'band407', 'band408', 'band409', 'band410', 'band411', 'band412', 'band413', 'band414', 'band415', 'band416', 'band417', 'band418', 'band419', 'band420', 'band421', 'band422', 'band423', 'band424', 'band425', 'band426']"
      ]
     },
     "execution_count": 19,
     "metadata": {},
     "output_type": "execute_result"
    }
   ],
   "source": [
    "SRER2021_good_bands = SRER_SDR2021.select(good_bands)\n",
    "bands = SRER2021_good_bands.bandNames()\n",
    "bands.getInfo()"
   ]
  },
  {
   "cell_type": "markdown",
   "id": "atlantic-vancouver",
   "metadata": {},
   "source": [
    "## Look at the image properties"
   ]
  },
  {
   "cell_type": "markdown",
   "id": "split-criticism",
   "metadata": {},
   "source": [
    "props = geemap.image_props(SRER_SDR2021)\n",
    "props.getInfo()"
   ]
  },
  {
   "cell_type": "code",
   "execution_count": 10,
   "id": "considerable-publicity",
   "metadata": {},
   "outputs": [
    {
     "data": {
      "text/plain": [
       "'2021-08-23'"
      ]
     },
     "execution_count": 10,
     "metadata": {},
     "output_type": "execute_result"
    }
   ],
   "source": [
    "props.get('IMAGE_DATE').getInfo()"
   ]
  },
  {
   "cell_type": "markdown",
   "id": "behavioral-valentine",
   "metadata": {},
   "source": [
    "## Make training dataset\n",
    "There are several ways you can create a region for generating the training dataset.\n",
    "\n",
    "Draw a shape (e.g., rectangle) on the map and the use region = Map.user_roi\n",
    "Define a geometry, such as region = ee.Geometry.Rectangle([-122.6003, 37.4831, -121.8036, 37.8288])\n",
    "Create a buffer zone around a point, such as region = ee.Geometry.Point([-122.4439, 37.7538]).buffer(10000)\n",
    "If you don't define a region, it will use the image footprint by default"
   ]
  },
  {
   "cell_type": "code",
   "execution_count": 11,
   "id": "described-haven",
   "metadata": {},
   "outputs": [
    {
     "data": {
      "application/vnd.jupyter.widget-view+json": {
       "model_id": "fe2e811d3596423b9c36a1b6a7dac2e3",
       "version_major": 2,
       "version_minor": 0
      },
      "text/plain": [
       "Map(bottom=426812.0, center=[31.798224014917242, -110.7608985900879], controls=(WidgetControl(options=['positi…"
      ]
     },
     "metadata": {},
     "output_type": "display_data"
    }
   ],
   "source": [
    "# Make the training dataset.\n",
    "training = SRER_SDR2021.sample(**{\n",
    "#     'region': region,\n",
    "    'scale': 30,\n",
    "    'numPixels': 5000,\n",
    "    'seed': 0,\n",
    "    'geometries': True  # Set this to False to ignore geometries\n",
    "})\n",
    "\n",
    "Map.addLayer(training, {}, 'training', False)\n",
    "Map"
   ]
  },
  {
   "cell_type": "markdown",
   "id": "historic-syndicate",
   "metadata": {},
   "source": [
    "## Train the clusterer"
   ]
  },
  {
   "cell_type": "code",
   "execution_count": 12,
   "id": "buried-participation",
   "metadata": {},
   "outputs": [],
   "source": [
    "# Instantiate the clusterer and train it.\n",
    "n_clusters = 4\n",
    "clusterer = ee.Clusterer.wekaKMeans(n_clusters).train(training)"
   ]
  },
  {
   "cell_type": "markdown",
   "id": "applied-connecticut",
   "metadata": {},
   "source": [
    "## Classify the image"
   ]
  },
  {
   "cell_type": "code",
   "execution_count": 13,
   "id": "international-sharp",
   "metadata": {},
   "outputs": [
    {
     "data": {
      "application/vnd.jupyter.widget-view+json": {
       "model_id": "fe2e811d3596423b9c36a1b6a7dac2e3",
       "version_major": 2,
       "version_minor": 0
      },
      "text/plain": [
       "Map(bottom=426812.0, center=[31.798224014917242, -110.7608985900879], controls=(WidgetControl(options=['positi…"
      ]
     },
     "metadata": {},
     "output_type": "display_data"
    }
   ],
   "source": [
    "# Cluster the input using the trained clusterer.\n",
    "result = SRER_SDR2021.cluster(clusterer)\n",
    "\n",
    "# # Display the clusters with random colors.\n",
    "Map.addLayer(result.randomVisualizer(), {}, 'clusters')\n",
    "Map"
   ]
  },
  {
   "cell_type": "markdown",
   "id": "exact-printer",
   "metadata": {},
   "source": [
    "## Label the clusters"
   ]
  },
  {
   "cell_type": "code",
   "execution_count": null,
   "id": "perceived-density",
   "metadata": {},
   "outputs": [],
   "source": [
    "legend_keys = ['One', 'Two', 'Three', 'Four']\n",
    "legend_colors = ['#8DD3C7', '#FFFFB3', '#BEBADA', '#FB8072']\n",
    "\n",
    "# Reclassify the map\n",
    "result = result.remap([0, 1, 2, 3], [1, 2, 3, 4])\n",
    "\n",
    "Map.addLayer(result, {'min': 1, 'max': 5, 'palette': legend_colors}, 'Labelled clusters')\n",
    "Map.add_legend(legend_keys=legend_keys, legend_colors=legend_colors, position='bottomright')\n",
    "Map"
   ]
  },
  {
   "cell_type": "code",
   "execution_count": null,
   "id": "professional-dynamics",
   "metadata": {},
   "outputs": [],
   "source": []
  },
  {
   "cell_type": "code",
   "execution_count": null,
   "id": "sublime-consistency",
   "metadata": {},
   "outputs": [],
   "source": [
    "print('Change layer opacity:')\n",
    "cluster_layer = Map.layers[-1]\n",
    "cluster_layer.interact(opacity=(0, 1, 0.1))"
   ]
  },
  {
   "cell_type": "code",
   "execution_count": null,
   "id": "laughing-scientist",
   "metadata": {},
   "outputs": [],
   "source": [
    "import os\n",
    "out_dir = os.path.join(os.path.expanduser('~'), 'Downloads')\n",
    "out_file = os.path.join(out_dir, 'cluster.tif')"
   ]
  }
 ],
 "metadata": {
  "kernelspec": {
   "display_name": "Python 3",
   "language": "python",
   "name": "python3"
  },
  "language_info": {
   "codemirror_mode": {
    "name": "ipython",
    "version": 3
   },
   "file_extension": ".py",
   "mimetype": "text/x-python",
   "name": "python",
   "nbconvert_exporter": "python",
   "pygments_lexer": "ipython3",
   "version": "3.8.6"
  }
 },
 "nbformat": 4,
 "nbformat_minor": 5
}
