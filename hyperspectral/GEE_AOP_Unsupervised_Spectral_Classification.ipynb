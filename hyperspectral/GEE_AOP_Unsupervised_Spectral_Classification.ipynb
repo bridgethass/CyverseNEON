{
 "cells": [
  {
   "cell_type": "markdown",
   "id": "systematic-contract",
   "metadata": {},
   "source": [
    "# Unsupervised Classification of AOP Surface Directional Reflectance data in GEE\n",
    "\n",
    "Authors: Bridget Hass, John Musinsky\n",
    "\n",
    "Modified from Qiusheng Wu's [Machine Learning with Earth Engine - Unsupervised Classification](https://github.com/giswqs/geemap/blob/master/examples/notebooks/31_unsupervised_classification.ipynb)\n",
    "\n",
    "Source: https://developers.google.com/earth-engine/clustering\n",
    "\n",
    "The `ee.Clusterer` package handles unsupervised classification (or clustering) in Earth Engine. More details about each Clusterer are available in the reference docs in the Code Editor.\n",
    "\n",
    "In this tutorial, we will use a GEE clusterer to carry out unsupervised classification of SRER, using data from 2017 (collected in good weather conditions \"green\"), and compare it to data from 2018 (mixed weather conditions)."
   ]
  },
  {
   "cell_type": "code",
   "execution_count": null,
   "id": "fitted-hungary",
   "metadata": {},
   "outputs": [],
   "source": [
    "import ee, geemap"
   ]
  },
  {
   "cell_type": "code",
   "execution_count": null,
   "id": "accessory-coral",
   "metadata": {},
   "outputs": [],
   "source": [
    "ee.Authenticate()"
   ]
  },
  {
   "cell_type": "code",
   "execution_count": null,
   "id": "external-insured",
   "metadata": {},
   "outputs": [],
   "source": [
    "ee.Initialize()"
   ]
  },
  {
   "cell_type": "markdown",
   "id": "respiratory-turner",
   "metadata": {},
   "source": [
    "## Create an interactive map"
   ]
  },
  {
   "cell_type": "code",
   "execution_count": null,
   "id": "suited-apollo",
   "metadata": {},
   "outputs": [],
   "source": [
    "Map = geemap.Map()\n",
    "Map"
   ]
  },
  {
   "cell_type": "markdown",
   "id": "linear-commons",
   "metadata": {},
   "source": [
    "## Add SRER 2021 Surface Directional Reflectance"
   ]
  },
  {
   "cell_type": "code",
   "execution_count": null,
   "id": "outdoor-blank",
   "metadata": {},
   "outputs": [],
   "source": [
    "# Specify center location of SRER\n",
    "geo = ee.Geometry.Point([-110.83549, 31.91068])\n",
    "\n",
    "# Read in SRER Surface Directional Reflectance (SDR) Image from 2021\n",
    "SRER_SDR2021 = ee.Image(\"projects/neon/D14_SRER/L3/DP3-30006-001_D14_SRER_SDR_2021\")\n",
    "\n",
    "# Mask layers to only show values > 0 (this hides the no data values of -9999) \n",
    "SRER_SDR2021mask = SRER_SDR2021.updateMask(SRER_SDR2021.gte(0.0000))\n",
    "\n",
    "# Set the visualization parameters so contrast is maximized, and set display to show RGB bands \n",
    "visParams = {'min':2,'max':20,'gamma':0.9,'bands':['band053','band035','band019']};\n",
    "\n",
    "Map.addLayer(SRER_SDR2021mask, visParams, 'SRER 2021');\n",
    "\n",
    "Map.setCenter(-110.83549, 31.91068, 11);"
   ]
  },
  {
   "cell_type": "markdown",
   "id": "perceived-workstation",
   "metadata": {},
   "source": [
    "## Remove water vapor absorption bands"
   ]
  },
  {
   "cell_type": "code",
   "execution_count": null,
   "id": "drawn-poverty",
   "metadata": {},
   "outputs": [],
   "source": [
    "bands = SRER_SDR2021.get('system:band_names').getInfo()\n",
    "bad_bands = ['band' + str(a) for a in range(190,212)] + ['band' + str(a) for a in range(280,314)] + ['band' + str(a) for a in range(416,427)]\n",
    "good_bands = [b for b in bands if b not in bad_bands]"
   ]
  },
  {
   "cell_type": "code",
   "execution_count": null,
   "id": "vital-wildlife",
   "metadata": {},
   "outputs": [],
   "source": [
    "len(good_bands)"
   ]
  },
  {
   "cell_type": "code",
   "execution_count": null,
   "id": "applicable-counter",
   "metadata": {},
   "outputs": [],
   "source": [
    "SRER2021sub = SRER_SDR2021.select(good_bands)"
   ]
  },
  {
   "cell_type": "markdown",
   "id": "brazilian-chart",
   "metadata": {},
   "source": [
    "## Look at the image properties"
   ]
  },
  {
   "cell_type": "markdown",
   "id": "lightweight-former",
   "metadata": {},
   "source": [
    "props = geemap.image_props(SRER_SDR2021)\n",
    "props.getInfo()"
   ]
  },
  {
   "cell_type": "markdown",
   "id": "fiscal-blood",
   "metadata": {},
   "source": [
    "## Make training dataset\n",
    "Note: there are several ways you can create a region for generating the training dataset. If you don't define a region, it will use the image footprint by default. For this example we will not specify a region."
   ]
  },
  {
   "cell_type": "code",
   "execution_count": null,
   "id": "abstract-hungarian",
   "metadata": {},
   "outputs": [],
   "source": [
    "# Make the training dataset.\n",
    "training = SRER2021sub.sample(**{\n",
    "#     'region': region,\n",
    "    'scale': 30,\n",
    "    'numPixels': 5000,\n",
    "    'seed': 0,\n",
    "    'geometries': True  # Set this to False to ignore geometries\n",
    "})\n",
    "\n",
    "Map.addLayer(training, {}, 'training', False)"
   ]
  },
  {
   "cell_type": "markdown",
   "id": "determined-somerset",
   "metadata": {},
   "source": [
    "## Train the clusterer"
   ]
  },
  {
   "cell_type": "code",
   "execution_count": null,
   "id": "defensive-defensive",
   "metadata": {},
   "outputs": [],
   "source": [
    "# Instantiate the clusterer and train it.\n",
    "n_clusters = 4\n",
    "clusterer = ee.Clusterer.wekaKMeans(n_clusters).train(training)"
   ]
  },
  {
   "cell_type": "markdown",
   "id": "rapid-turkish",
   "metadata": {},
   "source": [
    "## Classify the image"
   ]
  },
  {
   "cell_type": "code",
   "execution_count": null,
   "id": "indian-danish",
   "metadata": {},
   "outputs": [],
   "source": [
    "# Cluster the input using the trained clusterer.\n",
    "result = SRER2021sub.cluster(clusterer)\n",
    "\n",
    "# # Display the clusters with random colors.\n",
    "Map.addLayer(result.randomVisualizer(), {}, 'clusters')"
   ]
  },
  {
   "cell_type": "markdown",
   "id": "generous-potato",
   "metadata": {},
   "source": [
    "## Label the clusters"
   ]
  },
  {
   "cell_type": "code",
   "execution_count": null,
   "id": "provincial-quilt",
   "metadata": {},
   "outputs": [],
   "source": [
    "legend_keys = ['1', '2', '3', '4']\n",
    "legend_colors = ['#8DD3C7', '#FFFFB3', '#BEBADA', '#FB8072']\n",
    "\n",
    "# Reclassify the map\n",
    "result = result.remap([0, 1, 2, 3], [1, 2, 3, 4])\n",
    "\n",
    "Map.addLayer(result, {'min': 1, 'max': 5, 'palette': legend_colors}, 'Labelled clusters')\n",
    "Map.add_legend(legend_keys=legend_keys, legend_colors=legend_colors, position='bottomright')\n",
    "Map"
   ]
  },
  {
   "cell_type": "code",
   "execution_count": null,
   "id": "included-philippines",
   "metadata": {},
   "outputs": [],
   "source": [
    "print('Change layer opacity:')\n",
    "cluster_layer = Map.layers[-1]\n",
    "cluster_layer.interact(opacity=(0, 1, 0.1))"
   ]
  },
  {
   "cell_type": "markdown",
   "id": "looking-african",
   "metadata": {},
   "source": [
    "Save the result to a tif file."
   ]
  },
  {
   "cell_type": "code",
   "execution_count": null,
   "id": "completed-translation",
   "metadata": {},
   "outputs": [],
   "source": [
    "import os\n",
    "out_dir = os.path.join(os.path.expanduser('~'), 'Downloads')\n",
    "out_file = os.path.join(out_dir, 'cluster.tif')"
   ]
  },
  {
   "cell_type": "markdown",
   "id": "attempted-sarah",
   "metadata": {},
   "source": [
    "## Optional Exercise:\n",
    "\n",
    "On your own, run the clustering algorithm on SRER 2019 and 2018 to see if you get similar results. How might weather conditions affect the classification?"
   ]
  }
 ],
 "metadata": {
  "kernelspec": {
   "display_name": "Python 3",
   "language": "python",
   "name": "python3"
  },
  "language_info": {
   "codemirror_mode": {
    "name": "ipython",
    "version": 3
   },
   "file_extension": ".py",
   "mimetype": "text/x-python",
   "name": "python",
   "nbconvert_exporter": "python",
   "pygments_lexer": "ipython3",
   "version": "3.8.6"
  }
 },
 "nbformat": 4,
 "nbformat_minor": 5
}
