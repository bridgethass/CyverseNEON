{
 "cells": [
  {
   "cell_type": "markdown",
   "id": "becoming-keyboard",
   "metadata": {},
   "source": [
    "# Visualizing AOP Hyperspectral Data in Google Earth Engine (GEE) using the Python API\n",
    "Authors: John Musinsky, Bridget Hass\n",
    "\n",
    "Modified from Qiusheng Wu's [GEE Tutorial #9 - Interactive plotting of Earth Engine data with minimal coding](https://www.youtube.com/watch?v=PDab8mkAFL0), [giswqs_geemap_plotting_notebook](https://github.com/giswqs/geemap/blob/master/examples/notebooks/09_plotting.ipynb)\n",
    "\n",
    "## AOP data in GEE\n",
    "\n",
    "[Google Earth Engine](https://earthengine.google.com/) is a platform idea for carrying out continental and planetary scale geospatial analyses. It has a multi-pedabyte catalog of satellite imagery and geospatial datasets, and is a powerful tool for comparing and scaling up NEON airborne datasets. \n",
    "\n",
    "AOP has published a subset of AOP raster (L3) data products for a handful of NEON sites on GEE. The table below shows the sites, products, and years of data that can currently be accessed in GEE.\n",
    "\n",
    "| Domain/Site | Years      | Data Products           |\n",
    "|----------|------------|-------------------------|\n",
    "| D08 TALL | 2017, 2018 | SDR, RGB, CHM, DSM, DTM |\n",
    "| D11 CLBJ | 2017, 2019 | SDR, RGB, CHM, DSM, DTM |\n",
    "| D14 JORN | 2017, 2019 | SDR, RGB (2019 only), DSM, DTM      |\n",
    "| D14 SRER | 2017, 2018, 2019 | SDR, RGB, CHM (2018 only), DSM, DTM      |\n",
    "| D16 WREF | 2017, 2018 | SDR, RGB, CHM, DSM, DTM |\n",
    "| D17 TEAK | 2017, 2018 | SDR, RGB, CHM, DSM, DTM |\n",
    "\n",
    "The NEON data products can be accessed through the `projects/neon` folder with an appended prefix of the data product ID (DPID) similar to what you see on the [NEON data portal](https://data.neonscience.org/data-products/explore). The table below shows the corresponding prefixes to use for given data products.\n",
    "\n",
    "| Acronym | Data Product      | Data Product ID (Prefix)          |\n",
    "|----------|------------|-------------------------|\n",
    "| SDR | Surface Directional Reflectance | DP3-30006-001_SDR |\n",
    "| RGB | Red Green Blue (Camera Imagery) | DP3-30010-001_RGB |\n",
    "| CHM | Canopy Height Model | DP3-30015-001_CHM |\n",
    "| DSM | Digital Surface Model | DP3-30024-001_DSM |\n",
    "| DTM | Digital Terrain Model | DP3-30024-001_DTM |\n",
    "\n",
    "## SRER Hyperspectral Visualization\n",
    "In this tutorial, we will visualize the Santa Rita (SRER) SDR (hyperspectral) data collected in 2017, 2018 and 2019. The data product prefix to pull in the data is (`projects/neon/DP3-30006-001_SDR`).\n",
    "\n",
    "This tutorial uses the `geemap` Python package, and was modified from the Jupyter notebook [GEE Tutorial #9 - Interactive plotting of Earth Engine data with minimal coding](https://github.com/giswqs/geemap/blob/master/examples/notebooks/09_plotting.ipynb). Instead of using Landsat data, we will pull in AOP data.\n",
    "\n",
    "First, import the relevant Earth Engine (ee) packages, [ee](https://developers.google.com/earth-engine/guides/python_install) and [geemap](https://geemap.org/). You will need to generate a code to Authenticate and then Initialize before getting started."
   ]
  },
  {
   "cell_type": "code",
   "execution_count": 1,
   "id": "proud-stake",
   "metadata": {},
   "outputs": [],
   "source": [
    "import ee, geemap"
   ]
  },
  {
   "cell_type": "code",
   "execution_count": 2,
   "id": "taken-melissa",
   "metadata": {},
   "outputs": [
    {
     "data": {
      "text/html": [
       "<p>To authorize access needed by Earth Engine, open the following\n",
       "        URL in a web browser and follow the instructions:</p>\n",
       "        <p><a href=https://accounts.google.com/o/oauth2/auth?client_id=517222506229-vsmmajv00ul0bs7p89v5m89qs8eb9359.apps.googleusercontent.com&scope=https%3A%2F%2Fwww.googleapis.com%2Fauth%2Fearthengine+https%3A%2F%2Fwww.googleapis.com%2Fauth%2Fdevstorage.full_control&redirect_uri=urn%3Aietf%3Awg%3Aoauth%3A2.0%3Aoob&response_type=code&code_challenge=yXs0jJvA4PrPmo8RNW2nklCIGWISJlrMfosTgSETNAE&code_challenge_method=S256>https://accounts.google.com/o/oauth2/auth?client_id=517222506229-vsmmajv00ul0bs7p89v5m89qs8eb9359.apps.googleusercontent.com&scope=https%3A%2F%2Fwww.googleapis.com%2Fauth%2Fearthengine+https%3A%2F%2Fwww.googleapis.com%2Fauth%2Fdevstorage.full_control&redirect_uri=urn%3Aietf%3Awg%3Aoauth%3A2.0%3Aoob&response_type=code&code_challenge=yXs0jJvA4PrPmo8RNW2nklCIGWISJlrMfosTgSETNAE&code_challenge_method=S256</a></p>\n",
       "        <p>The authorization workflow will generate a code, which you\n",
       "        should paste in the box below</p>\n",
       "        "
      ],
      "text/plain": [
       "<IPython.core.display.HTML object>"
      ]
     },
     "metadata": {},
     "output_type": "display_data"
    },
    {
     "name": "stdin",
     "output_type": "stream",
     "text": [
      "Enter verification code:  4/1AX4XfWizI6AaP5oYs_qzZhJq9Gw3ZiL4GlOOcNQbT6FfHZcausn6vPHBAJk\n"
     ]
    },
    {
     "name": "stdout",
     "output_type": "stream",
     "text": [
      "\n",
      "Successfully saved authorization token.\n"
     ]
    }
   ],
   "source": [
    "ee.Authenticate()"
   ]
  },
  {
   "cell_type": "code",
   "execution_count": 3,
   "id": "narrative-evolution",
   "metadata": {},
   "outputs": [],
   "source": [
    "ee.Initialize()"
   ]
  },
  {
   "cell_type": "code",
   "execution_count": 4,
   "id": "embedded-devon",
   "metadata": {},
   "outputs": [
    {
     "data": {
      "application/vnd.jupyter.widget-view+json": {
       "model_id": "c622f34e361249ea952db041ea9ce482",
       "version_major": 2,
       "version_minor": 0
      },
      "text/plain": [
       "Map(center=[40, -100], controls=(WidgetControl(options=['position', 'transparent_bg'], widget=HBox(children=(T…"
      ]
     },
     "metadata": {},
     "output_type": "display_data"
    }
   ],
   "source": [
    "Map = geemap.Map()\n",
    "Map"
   ]
  },
  {
   "cell_type": "code",
   "execution_count": 5,
   "id": "criminal-month",
   "metadata": {},
   "outputs": [],
   "source": [
    "# Specify center location of SRER\n",
    "geo = ee.Geometry.Point([-110.83549, 31.91068])\n",
    "\n",
    "# Add Surface Directional Reflectance Images as Layers\n",
    "SRER_SDR2017 = ee.ImageCollection(\"projects/neon/DP3-30006-001_SDR\").filterDate('2017-01-01', '2017-12-31').filterBounds(geo).first();\n",
    "SRER_SDR2018 = ee.ImageCollection(\"projects/neon/DP3-30006-001_SDR\").filterDate('2018-01-01', '2018-12-31').filterBounds(geo).first();\n",
    "SRER_SDR2019 = ee.ImageCollection(\"projects/neon/DP3-30006-001_SDR\").filterDate('2019-01-01', '2019-12-31').filterBounds(geo).first();\n",
    "\n",
    "SRER_SDR2017mask = SRER_SDR2017.updateMask(SRER_SDR2017.gte(0.0000))\n",
    "SRER_SDR2018mask = SRER_SDR2018.updateMask(SRER_SDR2017.gte(0.0000))\n",
    "SRER_SDR2019mask = SRER_SDR2019.updateMask(SRER_SDR2019.gte(0.0000))\n",
    "# set the visualization parameters\n",
    "visParams = {'min':2,'max':20,'gamma':0.9,'bands':['band053','band035','band019']};\n",
    "\n",
    "Map.addLayer(SRER_SDR2017mask, visParams, 'SRER 2017');\n",
    "Map.addLayer(SRER_SDR2018mask, visParams, 'SRER 2018');\n",
    "Map.addLayer(SRER_SDR2019mask, visParams, 'SRER 2019');\n",
    "\n",
    "Map.setCenter(-110.83549, 31.91068, 10);"
   ]
  },
  {
   "cell_type": "markdown",
   "id": "strategic-journey",
   "metadata": {},
   "source": [
    "### Map.set_plot_options \n",
    "\n",
    "There are various options to change with the plot, for this example we will set overlay to true, but refer to the documentation for more options."
   ]
  },
  {
   "cell_type": "code",
   "execution_count": 6,
   "id": "close-cisco",
   "metadata": {},
   "outputs": [
    {
     "data": {
      "text/plain": [
       "\u001b[0;31mSignature:\u001b[0m\n",
       "\u001b[0mMap\u001b[0m\u001b[0;34m.\u001b[0m\u001b[0mset_plot_options\u001b[0m\u001b[0;34m(\u001b[0m\u001b[0;34m\u001b[0m\n",
       "\u001b[0;34m\u001b[0m    \u001b[0madd_marker_cluster\u001b[0m\u001b[0;34m=\u001b[0m\u001b[0;32mFalse\u001b[0m\u001b[0;34m,\u001b[0m\u001b[0;34m\u001b[0m\n",
       "\u001b[0;34m\u001b[0m    \u001b[0msample_scale\u001b[0m\u001b[0;34m=\u001b[0m\u001b[0;32mNone\u001b[0m\u001b[0;34m,\u001b[0m\u001b[0;34m\u001b[0m\n",
       "\u001b[0;34m\u001b[0m    \u001b[0mplot_type\u001b[0m\u001b[0;34m=\u001b[0m\u001b[0;32mNone\u001b[0m\u001b[0;34m,\u001b[0m\u001b[0;34m\u001b[0m\n",
       "\u001b[0;34m\u001b[0m    \u001b[0moverlay\u001b[0m\u001b[0;34m=\u001b[0m\u001b[0;32mFalse\u001b[0m\u001b[0;34m,\u001b[0m\u001b[0;34m\u001b[0m\n",
       "\u001b[0;34m\u001b[0m    \u001b[0mposition\u001b[0m\u001b[0;34m=\u001b[0m\u001b[0;34m'bottomright'\u001b[0m\u001b[0;34m,\u001b[0m\u001b[0;34m\u001b[0m\n",
       "\u001b[0;34m\u001b[0m    \u001b[0mmin_width\u001b[0m\u001b[0;34m=\u001b[0m\u001b[0;32mNone\u001b[0m\u001b[0;34m,\u001b[0m\u001b[0;34m\u001b[0m\n",
       "\u001b[0;34m\u001b[0m    \u001b[0mmax_width\u001b[0m\u001b[0;34m=\u001b[0m\u001b[0;32mNone\u001b[0m\u001b[0;34m,\u001b[0m\u001b[0;34m\u001b[0m\n",
       "\u001b[0;34m\u001b[0m    \u001b[0mmin_height\u001b[0m\u001b[0;34m=\u001b[0m\u001b[0;32mNone\u001b[0m\u001b[0;34m,\u001b[0m\u001b[0;34m\u001b[0m\n",
       "\u001b[0;34m\u001b[0m    \u001b[0mmax_height\u001b[0m\u001b[0;34m=\u001b[0m\u001b[0;32mNone\u001b[0m\u001b[0;34m,\u001b[0m\u001b[0;34m\u001b[0m\n",
       "\u001b[0;34m\u001b[0m    \u001b[0;34m**\u001b[0m\u001b[0mkwargs\u001b[0m\u001b[0;34m,\u001b[0m\u001b[0;34m\u001b[0m\n",
       "\u001b[0;34m\u001b[0m\u001b[0;34m)\u001b[0m\u001b[0;34m\u001b[0m\u001b[0;34m\u001b[0m\u001b[0m\n",
       "\u001b[0;31mDocstring:\u001b[0m\n",
       "Sets plotting options.\n",
       "\n",
       "Args:\n",
       "    add_marker_cluster (bool, optional): Whether to add a marker cluster. Defaults to False.\n",
       "    sample_scale (float, optional):  A nominal scale in meters of the projection to sample in . Defaults to None.\n",
       "    plot_type (str, optional): The plot type can be one of \"None\", \"bar\", \"scatter\" or \"hist\". Defaults to None.\n",
       "    overlay (bool, optional): Whether to overlay plotted lines on the figure. Defaults to False.\n",
       "    position (str, optional): Position of the control, can be ‘bottomleft’, ‘bottomright’, ‘topleft’, or ‘topright’. Defaults to 'bottomright'.\n",
       "    min_width (int, optional): Min width of the widget (in pixels), if None it will respect the content size. Defaults to None.\n",
       "    max_width (int, optional): Max width of the widget (in pixels), if None it will respect the content size. Defaults to None.\n",
       "    min_height (int, optional): Min height of the widget (in pixels), if None it will respect the content size. Defaults to None.\n",
       "    max_height (int, optional): Max height of the widget (in pixels), if None it will respect the content size. Defaults to None.\n",
       "\u001b[0;31mFile:\u001b[0m      /opt/conda/lib/python3.8/site-packages/geemap/geemap.py\n",
       "\u001b[0;31mType:\u001b[0m      method\n"
      ]
     },
     "metadata": {},
     "output_type": "display_data"
    }
   ],
   "source": [
    "Map.set_plot_options?"
   ]
  },
  {
   "cell_type": "code",
   "execution_count": 7,
   "id": "handled-transmission",
   "metadata": {},
   "outputs": [],
   "source": [
    "Map.set_plot_options(overlay=True)"
   ]
  },
  {
   "cell_type": "markdown",
   "id": "confirmed-welding",
   "metadata": {},
   "source": [
    "### geemap.js_snippet_to_py\n",
    "`js_snippet_to_py` converts a snippet of `JavaScript` (js) code to python. Try out on your own! "
   ]
  },
  {
   "cell_type": "code",
   "execution_count": 8,
   "id": "virgin-hammer",
   "metadata": {},
   "outputs": [
    {
     "data": {
      "text/plain": [
       "\u001b[0;31mSignature:\u001b[0m\n",
       "\u001b[0mgeemap\u001b[0m\u001b[0;34m.\u001b[0m\u001b[0mjs_snippet_to_py\u001b[0m\u001b[0;34m(\u001b[0m\u001b[0;34m\u001b[0m\n",
       "\u001b[0;34m\u001b[0m    \u001b[0min_js_snippet\u001b[0m\u001b[0;34m,\u001b[0m\u001b[0;34m\u001b[0m\n",
       "\u001b[0;34m\u001b[0m    \u001b[0madd_new_cell\u001b[0m\u001b[0;34m=\u001b[0m\u001b[0;32mTrue\u001b[0m\u001b[0;34m,\u001b[0m\u001b[0;34m\u001b[0m\n",
       "\u001b[0;34m\u001b[0m    \u001b[0mimport_ee\u001b[0m\u001b[0;34m=\u001b[0m\u001b[0;32mTrue\u001b[0m\u001b[0;34m,\u001b[0m\u001b[0;34m\u001b[0m\n",
       "\u001b[0;34m\u001b[0m    \u001b[0mimport_geemap\u001b[0m\u001b[0;34m=\u001b[0m\u001b[0;32mTrue\u001b[0m\u001b[0;34m,\u001b[0m\u001b[0;34m\u001b[0m\n",
       "\u001b[0;34m\u001b[0m    \u001b[0mshow_map\u001b[0m\u001b[0;34m=\u001b[0m\u001b[0;32mTrue\u001b[0m\u001b[0;34m,\u001b[0m\u001b[0;34m\u001b[0m\n",
       "\u001b[0;34m\u001b[0m\u001b[0;34m)\u001b[0m\u001b[0;34m\u001b[0m\u001b[0;34m\u001b[0m\u001b[0m\n",
       "\u001b[0;31mDocstring:\u001b[0m\n",
       "Converts an Earth Engine JavaScript snippet wrapped in triple quotes to Python directly on a Jupyter notebook.\n",
       "\n",
       "Args:\n",
       "    in_js_snippet (str): Earth Engine JavaScript within triple quotes.\n",
       "    add_new_cell (bool, optional): Whether add the converted Python to a new cell.\n",
       "    import_ee (bool, optional): Whether to import ee. Defaults to True.\n",
       "    import_geemap (bool, optional): Whether to import geemap. Defaults to True.\n",
       "    show_map (bool, optional): Whether to show the map. Defaults to True.\n",
       "\n",
       "Returns:\n",
       "    list: A list of Python script.\n",
       "\u001b[0;31mFile:\u001b[0m      /opt/conda/lib/python3.8/site-packages/geemap/conversion.py\n",
       "\u001b[0;31mType:\u001b[0m      function\n"
      ]
     },
     "metadata": {},
     "output_type": "display_data"
    }
   ],
   "source": [
    "geemap.js_snippet_to_py?"
   ]
  },
  {
   "cell_type": "code",
   "execution_count": 9,
   "id": "animal-pension",
   "metadata": {},
   "outputs": [],
   "source": [
    "js_snippet = \"\"\n",
    "geemap.js_snippet_to_py(js_snippet, add_new_cell=True, import_ee=True, import_geemap=True, show_map=True)"
   ]
  },
  {
   "cell_type": "code",
   "execution_count": null,
   "id": "successful-blend",
   "metadata": {},
   "outputs": [],
   "source": [
    "import ee\n",
    "import geemap\n",
    "\n",
    "Map = geemap.Map()\n",
    "Map\n"
   ]
  },
  {
   "cell_type": "markdown",
   "id": "molecular-vampire",
   "metadata": {},
   "source": [
    "## Additional Python-GEE Resources to Explore!\n",
    "- https://developers.google.com/earth-engine/guides/python_install\n",
    "- https://github.com/giswqs\n",
    "- https://github.com/giswqs/earthengine-py-notebooks\n",
    "- https://www.youtube.com/playlist?list=PLAxJ4-o7ZoPccOFv1dCwvGI6TYnirRTg3\n",
    "- https://geemap.org/workshops/GeoPython_2021/\n",
    "- https://courses.spatialthoughts.com/end-to-end-gee.html\n",
    "- https://earthlab.colorado.edu/introduction-google-earth-engine-python-api"
   ]
  }
 ],
 "metadata": {
  "kernelspec": {
   "display_name": "Python 3",
   "language": "python",
   "name": "python3"
  },
  "language_info": {
   "codemirror_mode": {
    "name": "ipython",
    "version": 3
   },
   "file_extension": ".py",
   "mimetype": "text/x-python",
   "name": "python",
   "nbconvert_exporter": "python",
   "pygments_lexer": "ipython3",
   "version": "3.8.6"
  }
 },
 "nbformat": 4,
 "nbformat_minor": 5
}
