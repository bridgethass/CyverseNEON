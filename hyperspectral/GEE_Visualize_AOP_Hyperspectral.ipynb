{
 "cells": [
  {
   "cell_type": "markdown",
   "id": "clear-diabetes",
   "metadata": {},
   "source": [
    "## Visualizing AOP Hyperspectral Data in Google Earth Engine using the Python API\n",
    "Authors: John Musinsky, Bridget Hass"
   ]
  },
  {
   "cell_type": "markdown",
   "id": "effective-academy",
   "metadata": {},
   "source": [
    "Additional Python-GEE Resources\n",
    "- https://developers.google.com/earth-engine/guides/python_install\n",
    "- https://earthlab.colorado.edu/introduction-google-earth-engine-python-api\n",
    "- https://courses.spatialthoughts.com/end-to-end-gee.html\n",
    "- https://geemap.org/workshops/GeoPython_2021/\n",
    "- https://www.youtube.com/playlist?list=PLAxJ4-o7ZoPccOFv1dCwvGI6TYnirRTg3"
   ]
  },
  {
   "cell_type": "code",
   "execution_count": 1,
   "id": "stone-plumbing",
   "metadata": {},
   "outputs": [],
   "source": [
    "import ee, geemap"
   ]
  },
  {
   "cell_type": "code",
   "execution_count": 2,
   "id": "opening-shaft",
   "metadata": {},
   "outputs": [
    {
     "data": {
      "text/plain": [
       "'0.8.10'"
      ]
     },
     "execution_count": 2,
     "metadata": {},
     "output_type": "execute_result"
    }
   ],
   "source": [
    "geemap.__version__"
   ]
  },
  {
   "cell_type": "code",
   "execution_count": 3,
   "id": "expired-chess",
   "metadata": {},
   "outputs": [
    {
     "data": {
      "text/html": [
       "<p>To authorize access needed by Earth Engine, open the following\n",
       "        URL in a web browser and follow the instructions:</p>\n",
       "        <p><a href=https://accounts.google.com/o/oauth2/auth?client_id=517222506229-vsmmajv00ul0bs7p89v5m89qs8eb9359.apps.googleusercontent.com&scope=https%3A%2F%2Fwww.googleapis.com%2Fauth%2Fearthengine+https%3A%2F%2Fwww.googleapis.com%2Fauth%2Fdevstorage.full_control&redirect_uri=urn%3Aietf%3Awg%3Aoauth%3A2.0%3Aoob&response_type=code&code_challenge=0XM_OucClTL1dKQx68np_iB6_fSIJwF41ymXXJvrehM&code_challenge_method=S256>https://accounts.google.com/o/oauth2/auth?client_id=517222506229-vsmmajv00ul0bs7p89v5m89qs8eb9359.apps.googleusercontent.com&scope=https%3A%2F%2Fwww.googleapis.com%2Fauth%2Fearthengine+https%3A%2F%2Fwww.googleapis.com%2Fauth%2Fdevstorage.full_control&redirect_uri=urn%3Aietf%3Awg%3Aoauth%3A2.0%3Aoob&response_type=code&code_challenge=0XM_OucClTL1dKQx68np_iB6_fSIJwF41ymXXJvrehM&code_challenge_method=S256</a></p>\n",
       "        <p>The authorization workflow will generate a code, which you\n",
       "        should paste in the box below</p>\n",
       "        "
      ],
      "text/plain": [
       "<IPython.core.display.HTML object>"
      ]
     },
     "metadata": {},
     "output_type": "display_data"
    },
    {
     "name": "stdin",
     "output_type": "stream",
     "text": [
      "Enter verification code:  4/1AX4XfWhlhS3QxL9WTxFqBrwAoD9hr6O-iRigEuFT1yvtolUmK1pseEhBzjQ\n"
     ]
    },
    {
     "name": "stdout",
     "output_type": "stream",
     "text": [
      "\n",
      "Successfully saved authorization token.\n"
     ]
    }
   ],
   "source": [
    "ee.Authenticate()"
   ]
  },
  {
   "cell_type": "code",
   "execution_count": 4,
   "id": "seventh-version",
   "metadata": {},
   "outputs": [],
   "source": [
    "ee.Initialize()"
   ]
  },
  {
   "cell_type": "code",
   "execution_count": 5,
   "id": "annoying-samoa",
   "metadata": {},
   "outputs": [
    {
     "data": {
      "application/vnd.jupyter.widget-view+json": {
       "model_id": "f13b8ab13dbc4bf4b3bc37e06f1f14a0",
       "version_major": 2,
       "version_minor": 0
      },
      "text/plain": [
       "Map(center=[40, -100], controls=(WidgetControl(options=['position', 'transparent_bg'], widget=HBox(children=(T…"
      ]
     },
     "metadata": {},
     "output_type": "display_data"
    }
   ],
   "source": [
    "Map = geemap.Map()\n",
    "Map"
   ]
  },
  {
   "cell_type": "code",
   "execution_count": 6,
   "id": "funny-farmer",
   "metadata": {},
   "outputs": [],
   "source": [
    "# Specify center location of SRER\n",
    "geo = ee.Geometry.Point([-110.83549, 31.91068])\n",
    "\n",
    "# Add Surface Directional Reflectance Images as Layers\n",
    "SRER_SDR2017 = ee.ImageCollection(\"projects/neon/DP3-30006-001_SDR\").filterDate('2017-01-01', '2021-12-31').filterBounds(geo).first();\n",
    "SRER_SDR2019 = ee.ImageCollection(\"projects/neon/DP3-30006-001_SDR\").filterDate('2019-01-01', '20219-12-31').filterBounds(geo).first();\n",
    "\n",
    "SRER_SDR2017mask = SRER_SDR2017.updateMask(SRER_SDR2017.gte(0.0000))\n",
    "SRER_SDR2019mask = SRER_SDR2019.updateMask(SRER_SDR2019.gte(0.0000))\n",
    "# set the visualization parameters\n",
    "visParams = {'min':2,'max':20,'gamma':0.9};\n",
    "\n",
    "Map.addLayer(SRER_SDR2017mask, visParams, 'SRER 2017');\n",
    "Map.addLayer(SRER_SDR2019mask, visParams, 'SRER 2019');\n",
    "\n",
    "Map.setCenter(-110.83549, 31.91068, 10);"
   ]
  },
  {
   "cell_type": "code",
   "execution_count": null,
   "id": "binding-suggestion",
   "metadata": {},
   "outputs": [],
   "source": [
    "Map.set_plot_options?"
   ]
  },
  {
   "cell_type": "code",
   "execution_count": null,
   "id": "brazilian-election",
   "metadata": {},
   "outputs": [],
   "source": [
    "js_snippet = \n",
    "geemap.js_snippet_to_py(js_snippet, add_new_cell=True, import_ee=True, import_geemap=True, show_map=True)"
   ]
  }
 ],
 "metadata": {
  "kernelspec": {
   "display_name": "Python 3",
   "language": "python",
   "name": "python3"
  },
  "language_info": {
   "codemirror_mode": {
    "name": "ipython",
    "version": 3
   },
   "file_extension": ".py",
   "mimetype": "text/x-python",
   "name": "python",
   "nbconvert_exporter": "python",
   "pygments_lexer": "ipython3",
   "version": "3.8.6"
  }
 },
 "nbformat": 4,
 "nbformat_minor": 5
}
