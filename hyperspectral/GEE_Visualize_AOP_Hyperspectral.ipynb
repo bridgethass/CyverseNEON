{
 "cells": [
  {
   "cell_type": "markdown",
   "id": "soviet-complex",
   "metadata": {},
   "source": [
    "# Visualizing AOP Hyperspectral Data in Google Earth Engine (GEE) using the Python API\n",
    "Authors: John Musinsky, Bridget Hass\n",
    "\n",
    "Modified from Qiusheng Wu's [GEE Tutorial #9 - Interactive plotting of Earth Engine data with minimal coding](https://www.youtube.com/watch?v=PDab8mkAFL0), [giswqs_geemap_plotting_notebook](https://github.com/giswqs/geemap/blob/master/examples/notebooks/09_plotting.ipynb)\n",
    "\n",
    "## AOP data in GEE\n",
    "\n",
    "[Google Earth Engine](https://earthengine.google.com/) is a platform idea for carrying out continental and planetary scale geospatial analyses. It has a multi-pedabyte catalog of satellite imagery and geospatial datasets, and is a powerful tool for comparing and scaling up NEON airborne datasets. \n",
    "\n",
    "\n",
    "\n",
    "AOP has published a subset of AOP raster (L3) data products for a handful of NEON sites on GEE. To interactively explore NEON data available on GEE, you can use the [aop-data-visualization](https://neon-aop.users.earthengine.app/view/aop-data-visualization) app created by John Musinsky. \n",
    "\n",
    "The table below shows the sites, products, and years of data that can currently be accessed in GEE. The * indicates partial availability.\n",
    "\n",
    "| Domain/Site | Years      | Data Products           |\n",
    "|----------|------------|-------------------------|\n",
    "| D08 TALL | 2017, 2018 | SDR, RGB, CHM, DSM, DTM |\"\n",
    "| D11 CLBJ | 2017, 2019 | SDR, RGB, CHM, DSM, DTM |\n",
    "| D14 JORN | 2017, 2019 | SDR, RGB (2019 only), DSM, DTM      |\n",
    "| D14 SRER | 2017, 2018, 2019, 2021* | SDR, RGB, CHM*, DSM, DTM      |\n",
    "| D16 WREF | 2017, 2018 | SDR, RGB, CHM, DSM, DTM |\n",
    "| D17 TEAK | 2017, 2018 | SDR, RGB, CHM, DSM, DTM |\n",
    "\n",
    "\n",
    "\n",
    "The NEON data products can be accessed through the `projects/neon` folder with an appended prefix of the data product ID (DPID) similar to what you see on the [NEON data portal](https://data.neonscience.org/data-products/explore). The table below shows the corresponding prefixes to use for given data products.\n",
    "\n",
    "| Acronym | Data Product      | Data Product ID (Prefix)          |\n",
    "|----------|------------|-------------------------|\n",
    "| SDR | Surface Directional Reflectance | DP3-30006-001_SDR |\n",
    "| RGB | Red Green Blue (Camera Imagery) | DP3-30010-001_RGB |\n",
    "| CHM | Canopy Height Model | DP3-30015-001_CHM |\n",
    "| DSM | Digital Surface Model | DP3-30024-001_DSM |\n",
    "| DTM | Digital Terrain Model | DP3-30024-001_DTM |\n",
    "\n",
    "## SRER Hyperspectral Visualization\n",
    "In this tutorial, we will visualize the Santa Rita (SRER) SDR (hyperspectral) data collected from 2017 to 2021. The data product prefix to pull in the data is (`projects/neon/DP3-30006-001_SDR`). \n",
    "\n",
    "This tutorial uses the `geemap` Python package, and was modified from the Jupyter notebook [GEE Tutorial #9 - Interactive plotting of Earth Engine data with minimal coding](https://geemap.org/notebooks/09_plotting/). Instead of using Landsat data, we will pull in AOP data.\n",
    "\n",
    "To access the NEON AOP data you can either use the earth engine `ImageCollection`\n",
    "`SRER_SDR2018 = ee.Image(\"projects/neon/D14_SRER/L3/DP3-30006-001_D14_SRER_SDR_2018\")`\n",
    "`ee.ImageCollection(\"projects/neon/DP3-30006-001_SDR\").filterDate('2018-01-01', '2018-12-31').filterBounds(geo).first();`\n",
    "\n",
    "First, import the relevant Earth Engine (ee) packages, [ee](https://developers.google.com/earth-engine/guides/python_install) and [geemap](https://geemap.org/)."
   ]
  },
  {
   "cell_type": "code",
   "execution_count": null,
   "id": "editorial-pocket",
   "metadata": {},
   "outputs": [],
   "source": [
    "import ee, geemap\n",
    "%pprint"
   ]
  },
  {
   "cell_type": "markdown",
   "id": "solid-straight",
   "metadata": {},
   "source": [
    "Next you will need to generate a code to Authenticate and then Initialize before getting started."
   ]
  },
  {
   "cell_type": "code",
   "execution_count": null,
   "id": "likely-avenue",
   "metadata": {},
   "outputs": [],
   "source": [
    "ee.Authenticate()"
   ]
  },
  {
   "cell_type": "code",
   "execution_count": null,
   "id": "divided-resource",
   "metadata": {},
   "outputs": [],
   "source": [
    "ee.Initialize()"
   ]
  },
  {
   "cell_type": "code",
   "execution_count": null,
   "id": "tribal-theology",
   "metadata": {},
   "outputs": [],
   "source": [
    "Map = geemap.Map()\n",
    "Map"
   ]
  },
  {
   "cell_type": "markdown",
   "id": "rapid-indian",
   "metadata": {},
   "source": [
    "## Add SRER Surface Directional Reflectance Data"
   ]
  },
  {
   "cell_type": "code",
   "execution_count": null,
   "id": "complicated-canada",
   "metadata": {},
   "outputs": [],
   "source": [
    "# Specify center location of SRER\n",
    "geo = ee.Geometry.Point([-110.83549, 31.91068])\n",
    "\n",
    "# Read in Surface Directional Reflectance (SDR) Images \n",
    "SRER_SDR2018 = ee.Image(\"projects/neon/D14_SRER/L3/DP3-30006-001_D14_SRER_SDR_2018\")\n",
    "SRER_SDR2019 = ee.Image(\"projects/neon/D14_SRER/L3/DP3-30006-001_D14_SRER_SDR_2019\")\n",
    "SRER_SDR2021 = ee.Image(\"projects/neon/D14_SRER/L3/DP3-30006-001_D14_SRER_SDR_2021\")\n",
    "\n",
    "# Mask layers to only show values > 0 (this hides the no data values of -9999) \n",
    "SRER_SDR2018mask = SRER_SDR2018.updateMask(SRER_SDR2018.gte(0.0000))\n",
    "SRER_SDR2019mask = SRER_SDR2019.updateMask(SRER_SDR2019.gte(0.0000))\n",
    "SRER_SDR2021mask = SRER_SDR2021.updateMask(SRER_SDR2021.gte(0.0000))\n",
    "\n",
    "# Set the visualization parameters so contrast is maximized, and set display to show RGB bands \n",
    "visParams = {'min':2,'max':20,'gamma':0.9,'bands':['band053','band035','band019']};\n",
    "\n",
    "# Add the 3 years of SRER SDR data as layers to the Map:\n",
    "Map.addLayer(SRER_SDR2018mask, visParams, 'SRER 2018');\n",
    "Map.addLayer(SRER_SDR2019mask, visParams, 'SRER 2019');\n",
    "Map.addLayer(SRER_SDR2021mask, visParams, 'SRER 2021');\n",
    "\n",
    "# Center the map on SRER\n",
    "Map.setCenter(-110.83549, 31.91068, 11);"
   ]
  },
  {
   "cell_type": "markdown",
   "id": "charitable-hygiene",
   "metadata": {},
   "source": [
    "TIP: If you don't know the exact image name, you can use the ImageCollection function and filter by date and bounds, as follows (eg, for 2018 SRER SDR):\n",
    "\n",
    "`SRER_SDR2018 = ee.ImageCollection(\"projects/neon/DP3-30006-001_SDR\").filterDate('2018-01-01', '2018-12-31').filterBounds(geo).first();`"
   ]
  },
  {
   "cell_type": "code",
   "execution_count": null,
   "id": "vanilla-sight",
   "metadata": {},
   "outputs": [],
   "source": [
    "props = geemap.image_props(SRER_SDR2021)\n",
    "props.getInfo()"
   ]
  },
  {
   "cell_type": "code",
   "execution_count": null,
   "id": "sixth-gabriel",
   "metadata": {},
   "outputs": [],
   "source": [
    "bands = SRER_SDR2021.get('system:band_names').getInfo()\n",
    "bands"
   ]
  },
  {
   "cell_type": "markdown",
   "id": "convinced-transaction",
   "metadata": {},
   "source": [
    "##  Water Vapor \"Bad\" Band Windows \n",
    "We can see from the spectral profiles that there are anomalously high and noisy reflectance values in two areas. These result from water vapor which absorbs light between wavelengths 1340-1445 nm and 1790-1955 nm. In addition some of the highest wavelengths tend to have a lot of noise. The atmospheric correction that converts radiance to reflectance subsequently results in a spike at these band ranges. The wavelengths of these water vapor bands is stored in the h5 reflectance attributes, but for this exercise we will remove the bands between 190-212, 280-314, and 416-427, which correspond to the noisy regions. We'll use list comprehension to make a list of all the bad bands, using the `band###` format corresponding to the band labels."
   ]
  },
  {
   "cell_type": "code",
   "execution_count": null,
   "id": "amazing-clone",
   "metadata": {},
   "outputs": [],
   "source": [
    "bad_bands = ['band' + str(a) for a in range(190,212)] + ['band' + str(a) for a in range(280,314)] + ['band' + str(a) for a in range(416,427)]\n",
    "bad_bands"
   ]
  },
  {
   "cell_type": "markdown",
   "id": "innovative-dream",
   "metadata": {},
   "source": [
    "The bands that we want to use, which we'll call `good_bands` are all of the bands except these bad bands:"
   ]
  },
  {
   "cell_type": "code",
   "execution_count": null,
   "id": "interstate-premium",
   "metadata": {},
   "outputs": [],
   "source": [
    "good_bands = [b for b in bands if b not in bad_bands]\n",
    "good_bands"
   ]
  },
  {
   "cell_type": "code",
   "execution_count": null,
   "id": "favorite-refrigerator",
   "metadata": {},
   "outputs": [],
   "source": [
    "print('# of all bands:',len(bands))\n",
    "print('# of good bands:',len(good_bands))"
   ]
  },
  {
   "cell_type": "markdown",
   "id": "rubber-nursery",
   "metadata": {},
   "source": [
    "We can see that we've considerably reduced the number of bands, but these are the bands that we'll want to use when doing our analysis."
   ]
  },
  {
   "cell_type": "code",
   "execution_count": null,
   "id": "anonymous-balloon",
   "metadata": {},
   "outputs": [],
   "source": [
    "SRER_SDR2021sub = SRER_SDR2021.select(good_bands)"
   ]
  },
  {
   "cell_type": "code",
   "execution_count": null,
   "id": "theoretical-strain",
   "metadata": {},
   "outputs": [],
   "source": [
    "visParams2 = {'min':2,'max':20,'gamma':0.9,'bands':['band053','band035','band019']};\n",
    "SRER_SDR2021sub_mask = SRER_SDR2021sub.updateMask(SRER_SDR2021sub.gte(0.0000))\n",
    "Map.addLayer(SRER_SDR2021sub_mask, visParams2, 'SRER 2021 Good Bands')\n",
    "Map"
   ]
  },
  {
   "cell_type": "markdown",
   "id": "attended-specialist",
   "metadata": {},
   "source": [
    "### Map.set_plot_options \n",
    "\n",
    "There are various options to change with the plot, for this example we will set overlay to true. Refer to the [documentation](https://geemap.org/geemap/#geemap.geemap.Map.set_plot_options) for more options."
   ]
  },
  {
   "cell_type": "code",
   "execution_count": null,
   "id": "fitted-specific",
   "metadata": {},
   "outputs": [],
   "source": [
    "Map.set_plot_options?"
   ]
  },
  {
   "cell_type": "code",
   "execution_count": null,
   "id": "attractive-kuwait",
   "metadata": {},
   "outputs": [],
   "source": [
    "Map.set_plot_options(add_marker_cluster=True)"
   ]
  },
  {
   "cell_type": "code",
   "execution_count": null,
   "id": "powered-original",
   "metadata": {},
   "outputs": [],
   "source": [
    "Map.set_plot_options(overlay=True)"
   ]
  },
  {
   "cell_type": "code",
   "execution_count": null,
   "id": "raising-awareness",
   "metadata": {},
   "outputs": [],
   "source": [
    "# https://developers.google.com/earth-engine/apidocs/ee-image-rename\n",
    "band_names = SRER_SDR2021.get('system:band_names').getInfo()\n",
    "bands_renamed = [str(int(band.replace('band',''))) for band in band_names]\n",
    "bands_renamed[:5]"
   ]
  },
  {
   "cell_type": "markdown",
   "id": "regulation-participant",
   "metadata": {},
   "source": [
    "## Optional Exercises\n",
    "\n",
    "Here are a few more exercises to try out:\n",
    "1. Subsetting by every 10th band\n",
    "2. Explore the GEE map functionality to convert Javascript to Python."
   ]
  },
  {
   "cell_type": "code",
   "execution_count": null,
   "id": "caroline-series",
   "metadata": {},
   "outputs": [],
   "source": [
    "good_bands_sub10 = good_bands[::10]\n",
    "good_bands_sub10\n",
    "# good_wl_sub20_rename = [b.replace('band','') for b in good_bands_sub20]"
   ]
  },
  {
   "cell_type": "markdown",
   "id": "surface-cincinnati",
   "metadata": {},
   "source": [
    "Select only the \"good\" bands and only select every 10 bands:"
   ]
  },
  {
   "cell_type": "code",
   "execution_count": null,
   "id": "informal-subscription",
   "metadata": {},
   "outputs": [],
   "source": [
    "SRER_SDR2021sub10 = SRER_SDR2021.select(good_bands_sub10)\n",
    "SRER_SDR2021sub10_mask = SRER_SDR2021sub10.updateMask(SRER_SDR2021sub10.gte(0.0000))\n",
    "visParams = {'min':2,'max':20,'gamma':0.9,'bands':['band051','band031','band021']};\n",
    "Map.addLayer(SRER_SDR2021sub10_mask, visParams, 'SRER 2021 Good Bands Subset 10')"
   ]
  },
  {
   "cell_type": "markdown",
   "id": "incomplete-freeze",
   "metadata": {},
   "source": [
    "### geemap.js_snippet_to_py\n",
    "`js_snippet_to_py` converts a snippet of `JavaScript` (js) code to python. Try out on your own! "
   ]
  },
  {
   "cell_type": "code",
   "execution_count": null,
   "id": "demonstrated-reviewer",
   "metadata": {},
   "outputs": [],
   "source": [
    "geemap.js_snippet_to_py?"
   ]
  },
  {
   "cell_type": "code",
   "execution_count": null,
   "id": "three-competition",
   "metadata": {},
   "outputs": [],
   "source": [
    "js_snippet = \"\"\n",
    "geemap.js_snippet_to_py(js_snippet, add_new_cell=True, import_ee=True, import_geemap=True, show_map=True)"
   ]
  },
  {
   "cell_type": "markdown",
   "id": "transparent-glenn",
   "metadata": {},
   "source": [
    "## Additional Python-GEE Resources to Explore!\n",
    "- https://developers.google.com/earth-engine/guides/python_install\n",
    "- https://github.com/giswqs\n",
    "- https://github.com/giswqs/geemap/blob/master/examples/notebooks/\n",
    "- https://github.com/giswqs/earthengine-py-notebooks\n",
    "- https://www.youtube.com/playlist?list=PLAxJ4-o7ZoPccOFv1dCwvGI6TYnirRTg3\n",
    "- https://geemap.org/workshops/GeoPython_2021/\n",
    "- https://courses.spatialthoughts.com/end-to-end-gee.html\n",
    "- https://earthlab.colorado.edu/introduction-google-earth-engine-python-api\n",
    "\n",
    "Wu, Q., (2020). geemap: A Python package for interactive mapping with Google Earth Engine. The Journal of Open Source Software, 5(51), 2305. https://doi.org/10.21105/joss.02305"
   ]
  }
 ],
 "metadata": {
  "kernelspec": {
   "display_name": "Python 3",
   "language": "python",
   "name": "python3"
  },
  "language_info": {
   "codemirror_mode": {
    "name": "ipython",
    "version": 3
   },
   "file_extension": ".py",
   "mimetype": "text/x-python",
   "name": "python",
   "nbconvert_exporter": "python",
   "pygments_lexer": "ipython3",
   "version": "3.8.6"
  }
 },
 "nbformat": 4,
 "nbformat_minor": 5
}
